{
  "nbformat": 4,
  "nbformat_minor": 0,
  "metadata": {
    "kernelspec": {
      "name": "python3",
      "display_name": "Python 3",
      "language": "python"
    },
    "language_info": {
      "name": "python",
      "version": "3.7.9",
      "mimetype": "text/x-python",
      "codemirror_mode": {
        "name": "ipython",
        "version": 3
      },
      "pygments_lexer": "ipython3",
      "nbconvert_exporter": "python",
      "file_extension": ".py"
    },
    "colab": {
      "name": "house_regression_kaggle.ipynb",
      "provenance": [],
      "collapsed_sections": []
    }
  },
  "cells": [
    {
      "cell_type": "code",
      "metadata": {
        "trusted": true,
        "id": "6YW5W0CdH9qI"
      },
      "source": [
        "import pandas as pd \n",
        "import numpy as np\n",
        "import matplotlib.pyplot as plt "
      ],
      "execution_count": null,
      "outputs": []
    },
    {
      "cell_type": "code",
      "metadata": {
        "trusted": true,
        "id": "mJcDgdwPH9qU"
      },
      "source": [
        "train_csv = pd.read_csv(\"/content/data.csv\")\n",
        "test_csv = pd.read_csv(\"/content/output.csv\")"
      ],
      "execution_count": null,
      "outputs": []
    },
    {
      "cell_type": "code",
      "metadata": {
        "trusted": true,
        "colab": {
          "base_uri": "https://localhost:8080/",
          "height": 281
        },
        "id": "5F6kNJTVH9qW",
        "outputId": "28807e1a-63a7-4e76-b97c-682934f5fc4e"
      },
      "source": [
        "train_csv.head(3)"
      ],
      "execution_count": null,
      "outputs": [
        {
          "output_type": "execute_result",
          "data": {
            "text/html": [
              "<div>\n",
              "<style scoped>\n",
              "    .dataframe tbody tr th:only-of-type {\n",
              "        vertical-align: middle;\n",
              "    }\n",
              "\n",
              "    .dataframe tbody tr th {\n",
              "        vertical-align: top;\n",
              "    }\n",
              "\n",
              "    .dataframe thead th {\n",
              "        text-align: right;\n",
              "    }\n",
              "</style>\n",
              "<table border=\"1\" class=\"dataframe\">\n",
              "  <thead>\n",
              "    <tr style=\"text-align: right;\">\n",
              "      <th></th>\n",
              "      <th>date</th>\n",
              "      <th>price</th>\n",
              "      <th>bedrooms</th>\n",
              "      <th>bathrooms</th>\n",
              "      <th>sqft_living</th>\n",
              "      <th>sqft_lot</th>\n",
              "      <th>floors</th>\n",
              "      <th>waterfront</th>\n",
              "      <th>view</th>\n",
              "      <th>condition</th>\n",
              "      <th>sqft_above</th>\n",
              "      <th>sqft_basement</th>\n",
              "      <th>yr_built</th>\n",
              "      <th>yr_renovated</th>\n",
              "      <th>street</th>\n",
              "      <th>city</th>\n",
              "      <th>statezip</th>\n",
              "      <th>country</th>\n",
              "    </tr>\n",
              "  </thead>\n",
              "  <tbody>\n",
              "    <tr>\n",
              "      <th>0</th>\n",
              "      <td>2014-05-02 00:00:00</td>\n",
              "      <td>313000.0</td>\n",
              "      <td>3.0</td>\n",
              "      <td>1.5</td>\n",
              "      <td>1340</td>\n",
              "      <td>7912</td>\n",
              "      <td>1.5</td>\n",
              "      <td>0</td>\n",
              "      <td>0</td>\n",
              "      <td>3</td>\n",
              "      <td>1340</td>\n",
              "      <td>0</td>\n",
              "      <td>1955</td>\n",
              "      <td>2005</td>\n",
              "      <td>18810 Densmore Ave N</td>\n",
              "      <td>Shoreline</td>\n",
              "      <td>WA 98133</td>\n",
              "      <td>USA</td>\n",
              "    </tr>\n",
              "    <tr>\n",
              "      <th>1</th>\n",
              "      <td>2014-05-02 00:00:00</td>\n",
              "      <td>2384000.0</td>\n",
              "      <td>5.0</td>\n",
              "      <td>2.5</td>\n",
              "      <td>3650</td>\n",
              "      <td>9050</td>\n",
              "      <td>2.0</td>\n",
              "      <td>0</td>\n",
              "      <td>4</td>\n",
              "      <td>5</td>\n",
              "      <td>3370</td>\n",
              "      <td>280</td>\n",
              "      <td>1921</td>\n",
              "      <td>0</td>\n",
              "      <td>709 W Blaine St</td>\n",
              "      <td>Seattle</td>\n",
              "      <td>WA 98119</td>\n",
              "      <td>USA</td>\n",
              "    </tr>\n",
              "    <tr>\n",
              "      <th>2</th>\n",
              "      <td>2014-05-02 00:00:00</td>\n",
              "      <td>342000.0</td>\n",
              "      <td>3.0</td>\n",
              "      <td>2.0</td>\n",
              "      <td>1930</td>\n",
              "      <td>11947</td>\n",
              "      <td>1.0</td>\n",
              "      <td>0</td>\n",
              "      <td>0</td>\n",
              "      <td>4</td>\n",
              "      <td>1930</td>\n",
              "      <td>0</td>\n",
              "      <td>1966</td>\n",
              "      <td>0</td>\n",
              "      <td>26206-26214 143rd Ave SE</td>\n",
              "      <td>Kent</td>\n",
              "      <td>WA 98042</td>\n",
              "      <td>USA</td>\n",
              "    </tr>\n",
              "  </tbody>\n",
              "</table>\n",
              "</div>"
            ],
            "text/plain": [
              "                  date      price  bedrooms  ...       city  statezip  country\n",
              "0  2014-05-02 00:00:00   313000.0       3.0  ...  Shoreline  WA 98133      USA\n",
              "1  2014-05-02 00:00:00  2384000.0       5.0  ...    Seattle  WA 98119      USA\n",
              "2  2014-05-02 00:00:00   342000.0       3.0  ...       Kent  WA 98042      USA\n",
              "\n",
              "[3 rows x 18 columns]"
            ]
          },
          "metadata": {
            "tags": []
          },
          "execution_count": 13
        }
      ]
    },
    {
      "cell_type": "code",
      "metadata": {
        "trusted": true,
        "colab": {
          "base_uri": "https://localhost:8080/"
        },
        "id": "73hXt1LDH9qY",
        "outputId": "d1dd9ae2-47c0-434d-b92d-c4f33dc7d69f"
      },
      "source": [
        "train_csv[\"country\"].value_counts()"
      ],
      "execution_count": null,
      "outputs": [
        {
          "output_type": "execute_result",
          "data": {
            "text/plain": [
              "USA    4600\n",
              "Name: country, dtype: int64"
            ]
          },
          "metadata": {
            "tags": []
          },
          "execution_count": 14
        }
      ]
    },
    {
      "cell_type": "markdown",
      "metadata": {
        "trusted": true,
        "id": "DZOCZPiAH9qZ"
      },
      "source": [
        "test_csv.head(3)"
      ]
    },
    {
      "cell_type": "code",
      "metadata": {
        "trusted": true,
        "colab": {
          "base_uri": "https://localhost:8080/"
        },
        "id": "gMqlL9DMH9qa",
        "outputId": "5a111c7b-e730-43c9-9988-beb81babf9aa"
      },
      "source": [
        "train_csv.isna().any().sum()"
      ],
      "execution_count": null,
      "outputs": [
        {
          "output_type": "execute_result",
          "data": {
            "text/plain": [
              "0"
            ]
          },
          "metadata": {
            "tags": []
          },
          "execution_count": 15
        }
      ]
    },
    {
      "cell_type": "code",
      "metadata": {
        "trusted": true,
        "colab": {
          "base_uri": "https://localhost:8080/"
        },
        "id": "OKkAcVedH9qb",
        "outputId": "d3501559-0475-4cde-eb51-4057f8e50be2"
      },
      "source": [
        "test_csv.isna().any().sum()"
      ],
      "execution_count": null,
      "outputs": [
        {
          "output_type": "execute_result",
          "data": {
            "text/plain": [
              "0"
            ]
          },
          "metadata": {
            "tags": []
          },
          "execution_count": 16
        }
      ]
    },
    {
      "cell_type": "code",
      "metadata": {
        "trusted": true,
        "id": "AcvnxpihH9qc"
      },
      "source": [
        "from sklearn import preprocessing\n",
        "le = preprocessing.LabelEncoder()\n",
        "train_csv[\"city\"] = le.fit_transform(train_csv[\"city\"])\n",
        "test_csv[\"city\"] = le.fit_transform(test_csv[\"city\"])\n",
        "train_csv[\"statezip\"] = le.fit_transform(train_csv[\"statezip\"])\n",
        "test_csv[\"statezip\"] = le.fit_transform(test_csv[\"statezip\"])\n",
        "train_csv[\"country\"] = le.fit_transform(train_csv[\"country\"])\n",
        "test_csv[\"country\"] = le.fit_transform(test_csv[\"country\"])"
      ],
      "execution_count": null,
      "outputs": []
    },
    {
      "cell_type": "code",
      "metadata": {
        "trusted": true,
        "id": "m4q03wkhH9qc"
      },
      "source": [
        "train_csv.drop(\"street\",axis = 1,inplace = True)\n",
        "test_csv.drop(\"street\",axis = 1,inplace = True)"
      ],
      "execution_count": null,
      "outputs": []
    },
    {
      "cell_type": "code",
      "metadata": {
        "colab": {
          "base_uri": "https://localhost:8080/"
        },
        "id": "pLbqEFW1Voyq",
        "outputId": "2f997f19-48d7-4d1c-f549-aa99896132d2"
      },
      "source": [
        "train_csv[\"country\"].value_counts()"
      ],
      "execution_count": null,
      "outputs": [
        {
          "output_type": "execute_result",
          "data": {
            "text/plain": [
              "0    4600\n",
              "Name: country, dtype: int64"
            ]
          },
          "metadata": {
            "tags": []
          },
          "execution_count": 19
        }
      ]
    },
    {
      "cell_type": "code",
      "metadata": {
        "trusted": true,
        "id": "c02yXWFPH9qd"
      },
      "source": [
        "train_csv.drop(\"country\",axis = 1,inplace = True)\n",
        "test_csv.drop(\"country\",axis = 1,inplace = True)"
      ],
      "execution_count": null,
      "outputs": []
    },
    {
      "cell_type": "code",
      "metadata": {
        "trusted": true,
        "colab": {
          "base_uri": "https://localhost:8080/",
          "height": 264
        },
        "id": "p3rjRnmSH9qe",
        "outputId": "3a073f15-34e7-4c1b-efc5-d47e8b0470f2"
      },
      "source": [
        "train_csv.head(3)"
      ],
      "execution_count": null,
      "outputs": [
        {
          "output_type": "execute_result",
          "data": {
            "text/html": [
              "<div>\n",
              "<style scoped>\n",
              "    .dataframe tbody tr th:only-of-type {\n",
              "        vertical-align: middle;\n",
              "    }\n",
              "\n",
              "    .dataframe tbody tr th {\n",
              "        vertical-align: top;\n",
              "    }\n",
              "\n",
              "    .dataframe thead th {\n",
              "        text-align: right;\n",
              "    }\n",
              "</style>\n",
              "<table border=\"1\" class=\"dataframe\">\n",
              "  <thead>\n",
              "    <tr style=\"text-align: right;\">\n",
              "      <th></th>\n",
              "      <th>date</th>\n",
              "      <th>price</th>\n",
              "      <th>bedrooms</th>\n",
              "      <th>bathrooms</th>\n",
              "      <th>sqft_living</th>\n",
              "      <th>sqft_lot</th>\n",
              "      <th>floors</th>\n",
              "      <th>waterfront</th>\n",
              "      <th>view</th>\n",
              "      <th>condition</th>\n",
              "      <th>sqft_above</th>\n",
              "      <th>sqft_basement</th>\n",
              "      <th>yr_built</th>\n",
              "      <th>yr_renovated</th>\n",
              "      <th>city</th>\n",
              "      <th>statezip</th>\n",
              "    </tr>\n",
              "  </thead>\n",
              "  <tbody>\n",
              "    <tr>\n",
              "      <th>0</th>\n",
              "      <td>2014-05-02 00:00:00</td>\n",
              "      <td>313000.0</td>\n",
              "      <td>3.0</td>\n",
              "      <td>1.5</td>\n",
              "      <td>1340</td>\n",
              "      <td>7912</td>\n",
              "      <td>1.5</td>\n",
              "      <td>0</td>\n",
              "      <td>0</td>\n",
              "      <td>3</td>\n",
              "      <td>1340</td>\n",
              "      <td>0</td>\n",
              "      <td>1955</td>\n",
              "      <td>2005</td>\n",
              "      <td>36</td>\n",
              "      <td>62</td>\n",
              "    </tr>\n",
              "    <tr>\n",
              "      <th>1</th>\n",
              "      <td>2014-05-02 00:00:00</td>\n",
              "      <td>2384000.0</td>\n",
              "      <td>5.0</td>\n",
              "      <td>2.5</td>\n",
              "      <td>3650</td>\n",
              "      <td>9050</td>\n",
              "      <td>2.0</td>\n",
              "      <td>0</td>\n",
              "      <td>4</td>\n",
              "      <td>5</td>\n",
              "      <td>3370</td>\n",
              "      <td>280</td>\n",
              "      <td>1921</td>\n",
              "      <td>0</td>\n",
              "      <td>35</td>\n",
              "      <td>58</td>\n",
              "    </tr>\n",
              "    <tr>\n",
              "      <th>2</th>\n",
              "      <td>2014-05-02 00:00:00</td>\n",
              "      <td>342000.0</td>\n",
              "      <td>3.0</td>\n",
              "      <td>2.0</td>\n",
              "      <td>1930</td>\n",
              "      <td>11947</td>\n",
              "      <td>1.0</td>\n",
              "      <td>0</td>\n",
              "      <td>0</td>\n",
              "      <td>4</td>\n",
              "      <td>1930</td>\n",
              "      <td>0</td>\n",
              "      <td>1966</td>\n",
              "      <td>0</td>\n",
              "      <td>18</td>\n",
              "      <td>26</td>\n",
              "    </tr>\n",
              "  </tbody>\n",
              "</table>\n",
              "</div>"
            ],
            "text/plain": [
              "                  date      price  bedrooms  ...  yr_renovated  city  statezip\n",
              "0  2014-05-02 00:00:00   313000.0       3.0  ...          2005    36        62\n",
              "1  2014-05-02 00:00:00  2384000.0       5.0  ...             0    35        58\n",
              "2  2014-05-02 00:00:00   342000.0       3.0  ...             0    18        26\n",
              "\n",
              "[3 rows x 16 columns]"
            ]
          },
          "metadata": {
            "tags": []
          },
          "execution_count": 21
        }
      ]
    },
    {
      "cell_type": "code",
      "metadata": {
        "trusted": true,
        "colab": {
          "base_uri": "https://localhost:8080/"
        },
        "id": "Y1zSHqyYH9qe",
        "outputId": "670360de-f11d-4d52-8383-36a7e97e5801"
      },
      "source": [
        "train_csv.shape"
      ],
      "execution_count": null,
      "outputs": [
        {
          "output_type": "execute_result",
          "data": {
            "text/plain": [
              "(4600, 16)"
            ]
          },
          "metadata": {
            "tags": []
          },
          "execution_count": 22
        }
      ]
    },
    {
      "cell_type": "code",
      "metadata": {
        "trusted": true,
        "colab": {
          "base_uri": "https://localhost:8080/"
        },
        "id": "eHbjvQFQH9qf",
        "outputId": "40c3959f-f287-4e3c-b063-76bad985004c"
      },
      "source": [
        "test_csv.shape"
      ],
      "execution_count": null,
      "outputs": [
        {
          "output_type": "execute_result",
          "data": {
            "text/plain": [
              "(4600, 16)"
            ]
          },
          "metadata": {
            "tags": []
          },
          "execution_count": 23
        }
      ]
    },
    {
      "cell_type": "code",
      "metadata": {
        "trusted": true,
        "id": "2h0ELhUFH9qf"
      },
      "source": [
        "train_csv.drop(\"date\",axis =1,inplace = True)\n",
        "test_csv.drop(\"date\",axis = 1,inplace = True)"
      ],
      "execution_count": null,
      "outputs": []
    },
    {
      "cell_type": "code",
      "metadata": {
        "trusted": true,
        "colab": {
          "base_uri": "https://localhost:8080/",
          "height": 162
        },
        "id": "da23icLYH9qg",
        "outputId": "822c001c-c2c7-4a9d-e569-ea23058bc856"
      },
      "source": [
        "test_csv.head(3)"
      ],
      "execution_count": null,
      "outputs": [
        {
          "output_type": "execute_result",
          "data": {
            "text/html": [
              "<div>\n",
              "<style scoped>\n",
              "    .dataframe tbody tr th:only-of-type {\n",
              "        vertical-align: middle;\n",
              "    }\n",
              "\n",
              "    .dataframe tbody tr th {\n",
              "        vertical-align: top;\n",
              "    }\n",
              "\n",
              "    .dataframe thead th {\n",
              "        text-align: right;\n",
              "    }\n",
              "</style>\n",
              "<table border=\"1\" class=\"dataframe\">\n",
              "  <thead>\n",
              "    <tr style=\"text-align: right;\">\n",
              "      <th></th>\n",
              "      <th>price</th>\n",
              "      <th>bedrooms</th>\n",
              "      <th>bathrooms</th>\n",
              "      <th>sqft_living</th>\n",
              "      <th>sqft_lot</th>\n",
              "      <th>floors</th>\n",
              "      <th>waterfront</th>\n",
              "      <th>view</th>\n",
              "      <th>condition</th>\n",
              "      <th>sqft_above</th>\n",
              "      <th>sqft_basement</th>\n",
              "      <th>yr_built</th>\n",
              "      <th>yr_renovated</th>\n",
              "      <th>city</th>\n",
              "      <th>statezip</th>\n",
              "    </tr>\n",
              "  </thead>\n",
              "  <tbody>\n",
              "    <tr>\n",
              "      <th>0</th>\n",
              "      <td>313000.0</td>\n",
              "      <td>3.0</td>\n",
              "      <td>1.5</td>\n",
              "      <td>1340</td>\n",
              "      <td>7912</td>\n",
              "      <td>1.5</td>\n",
              "      <td>0</td>\n",
              "      <td>0</td>\n",
              "      <td>3</td>\n",
              "      <td>1340</td>\n",
              "      <td>0</td>\n",
              "      <td>1955</td>\n",
              "      <td>2005</td>\n",
              "      <td>36</td>\n",
              "      <td>62</td>\n",
              "    </tr>\n",
              "    <tr>\n",
              "      <th>1</th>\n",
              "      <td>2384000.0</td>\n",
              "      <td>5.0</td>\n",
              "      <td>2.5</td>\n",
              "      <td>3650</td>\n",
              "      <td>9050</td>\n",
              "      <td>2.0</td>\n",
              "      <td>0</td>\n",
              "      <td>4</td>\n",
              "      <td>5</td>\n",
              "      <td>3370</td>\n",
              "      <td>280</td>\n",
              "      <td>1921</td>\n",
              "      <td>0</td>\n",
              "      <td>35</td>\n",
              "      <td>58</td>\n",
              "    </tr>\n",
              "    <tr>\n",
              "      <th>2</th>\n",
              "      <td>342000.0</td>\n",
              "      <td>3.0</td>\n",
              "      <td>2.0</td>\n",
              "      <td>1930</td>\n",
              "      <td>11947</td>\n",
              "      <td>1.0</td>\n",
              "      <td>0</td>\n",
              "      <td>0</td>\n",
              "      <td>4</td>\n",
              "      <td>1930</td>\n",
              "      <td>0</td>\n",
              "      <td>1966</td>\n",
              "      <td>0</td>\n",
              "      <td>18</td>\n",
              "      <td>26</td>\n",
              "    </tr>\n",
              "  </tbody>\n",
              "</table>\n",
              "</div>"
            ],
            "text/plain": [
              "       price  bedrooms  bathrooms  ...  yr_renovated  city  statezip\n",
              "0   313000.0       3.0        1.5  ...          2005    36        62\n",
              "1  2384000.0       5.0        2.5  ...             0    35        58\n",
              "2   342000.0       3.0        2.0  ...             0    18        26\n",
              "\n",
              "[3 rows x 15 columns]"
            ]
          },
          "metadata": {
            "tags": []
          },
          "execution_count": 25
        }
      ]
    },
    {
      "cell_type": "code",
      "metadata": {
        "trusted": true,
        "colab": {
          "base_uri": "https://localhost:8080/"
        },
        "id": "wP9q-jWzH9qh",
        "outputId": "69a8adb1-ef4d-4f90-efa3-b3b4ff7a5e45"
      },
      "source": [
        "train_csv.dtypes"
      ],
      "execution_count": null,
      "outputs": [
        {
          "output_type": "execute_result",
          "data": {
            "text/plain": [
              "price            float64\n",
              "bedrooms         float64\n",
              "bathrooms        float64\n",
              "sqft_living        int64\n",
              "sqft_lot           int64\n",
              "floors           float64\n",
              "waterfront         int64\n",
              "view               int64\n",
              "condition          int64\n",
              "sqft_above         int64\n",
              "sqft_basement      int64\n",
              "yr_built           int64\n",
              "yr_renovated       int64\n",
              "city               int64\n",
              "statezip           int64\n",
              "dtype: object"
            ]
          },
          "metadata": {
            "tags": []
          },
          "execution_count": 26
        }
      ]
    },
    {
      "cell_type": "code",
      "metadata": {
        "trusted": true,
        "colab": {
          "base_uri": "https://localhost:8080/"
        },
        "id": "i23wrw3gH9qh",
        "outputId": "4ab74b9e-f5a4-403e-f744-6c21f022ee7f"
      },
      "source": [
        "test_csv.dtypes"
      ],
      "execution_count": null,
      "outputs": [
        {
          "output_type": "execute_result",
          "data": {
            "text/plain": [
              "price            float64\n",
              "bedrooms         float64\n",
              "bathrooms        float64\n",
              "sqft_living        int64\n",
              "sqft_lot           int64\n",
              "floors           float64\n",
              "waterfront         int64\n",
              "view               int64\n",
              "condition          int64\n",
              "sqft_above         int64\n",
              "sqft_basement      int64\n",
              "yr_built           int64\n",
              "yr_renovated       int64\n",
              "city               int64\n",
              "statezip           int64\n",
              "dtype: object"
            ]
          },
          "metadata": {
            "tags": []
          },
          "execution_count": 27
        }
      ]
    },
    {
      "cell_type": "code",
      "metadata": {
        "trusted": true,
        "colab": {
          "base_uri": "https://localhost:8080/",
          "height": 514
        },
        "id": "Bl9ERg3GH9qi",
        "outputId": "5f4b4e09-9abc-46f3-eb33-3352037d293c"
      },
      "source": [
        "train_csv.describe().T"
      ],
      "execution_count": null,
      "outputs": [
        {
          "output_type": "execute_result",
          "data": {
            "text/html": [
              "<div>\n",
              "<style scoped>\n",
              "    .dataframe tbody tr th:only-of-type {\n",
              "        vertical-align: middle;\n",
              "    }\n",
              "\n",
              "    .dataframe tbody tr th {\n",
              "        vertical-align: top;\n",
              "    }\n",
              "\n",
              "    .dataframe thead th {\n",
              "        text-align: right;\n",
              "    }\n",
              "</style>\n",
              "<table border=\"1\" class=\"dataframe\">\n",
              "  <thead>\n",
              "    <tr style=\"text-align: right;\">\n",
              "      <th></th>\n",
              "      <th>count</th>\n",
              "      <th>mean</th>\n",
              "      <th>std</th>\n",
              "      <th>min</th>\n",
              "      <th>25%</th>\n",
              "      <th>50%</th>\n",
              "      <th>75%</th>\n",
              "      <th>max</th>\n",
              "    </tr>\n",
              "  </thead>\n",
              "  <tbody>\n",
              "    <tr>\n",
              "      <th>price</th>\n",
              "      <td>4600.0</td>\n",
              "      <td>551962.988473</td>\n",
              "      <td>563834.702547</td>\n",
              "      <td>0.0</td>\n",
              "      <td>322875.00</td>\n",
              "      <td>460943.461539</td>\n",
              "      <td>654962.50</td>\n",
              "      <td>26590000.0</td>\n",
              "    </tr>\n",
              "    <tr>\n",
              "      <th>bedrooms</th>\n",
              "      <td>4600.0</td>\n",
              "      <td>3.400870</td>\n",
              "      <td>0.908848</td>\n",
              "      <td>0.0</td>\n",
              "      <td>3.00</td>\n",
              "      <td>3.000000</td>\n",
              "      <td>4.00</td>\n",
              "      <td>9.0</td>\n",
              "    </tr>\n",
              "    <tr>\n",
              "      <th>bathrooms</th>\n",
              "      <td>4600.0</td>\n",
              "      <td>2.160815</td>\n",
              "      <td>0.783781</td>\n",
              "      <td>0.0</td>\n",
              "      <td>1.75</td>\n",
              "      <td>2.250000</td>\n",
              "      <td>2.50</td>\n",
              "      <td>8.0</td>\n",
              "    </tr>\n",
              "    <tr>\n",
              "      <th>sqft_living</th>\n",
              "      <td>4600.0</td>\n",
              "      <td>2139.346957</td>\n",
              "      <td>963.206916</td>\n",
              "      <td>370.0</td>\n",
              "      <td>1460.00</td>\n",
              "      <td>1980.000000</td>\n",
              "      <td>2620.00</td>\n",
              "      <td>13540.0</td>\n",
              "    </tr>\n",
              "    <tr>\n",
              "      <th>sqft_lot</th>\n",
              "      <td>4600.0</td>\n",
              "      <td>14852.516087</td>\n",
              "      <td>35884.436145</td>\n",
              "      <td>638.0</td>\n",
              "      <td>5000.75</td>\n",
              "      <td>7683.000000</td>\n",
              "      <td>11001.25</td>\n",
              "      <td>1074218.0</td>\n",
              "    </tr>\n",
              "    <tr>\n",
              "      <th>floors</th>\n",
              "      <td>4600.0</td>\n",
              "      <td>1.512065</td>\n",
              "      <td>0.538288</td>\n",
              "      <td>1.0</td>\n",
              "      <td>1.00</td>\n",
              "      <td>1.500000</td>\n",
              "      <td>2.00</td>\n",
              "      <td>3.5</td>\n",
              "    </tr>\n",
              "    <tr>\n",
              "      <th>waterfront</th>\n",
              "      <td>4600.0</td>\n",
              "      <td>0.007174</td>\n",
              "      <td>0.084404</td>\n",
              "      <td>0.0</td>\n",
              "      <td>0.00</td>\n",
              "      <td>0.000000</td>\n",
              "      <td>0.00</td>\n",
              "      <td>1.0</td>\n",
              "    </tr>\n",
              "    <tr>\n",
              "      <th>view</th>\n",
              "      <td>4600.0</td>\n",
              "      <td>0.240652</td>\n",
              "      <td>0.778405</td>\n",
              "      <td>0.0</td>\n",
              "      <td>0.00</td>\n",
              "      <td>0.000000</td>\n",
              "      <td>0.00</td>\n",
              "      <td>4.0</td>\n",
              "    </tr>\n",
              "    <tr>\n",
              "      <th>condition</th>\n",
              "      <td>4600.0</td>\n",
              "      <td>3.451739</td>\n",
              "      <td>0.677230</td>\n",
              "      <td>1.0</td>\n",
              "      <td>3.00</td>\n",
              "      <td>3.000000</td>\n",
              "      <td>4.00</td>\n",
              "      <td>5.0</td>\n",
              "    </tr>\n",
              "    <tr>\n",
              "      <th>sqft_above</th>\n",
              "      <td>4600.0</td>\n",
              "      <td>1827.265435</td>\n",
              "      <td>862.168977</td>\n",
              "      <td>370.0</td>\n",
              "      <td>1190.00</td>\n",
              "      <td>1590.000000</td>\n",
              "      <td>2300.00</td>\n",
              "      <td>9410.0</td>\n",
              "    </tr>\n",
              "    <tr>\n",
              "      <th>sqft_basement</th>\n",
              "      <td>4600.0</td>\n",
              "      <td>312.081522</td>\n",
              "      <td>464.137228</td>\n",
              "      <td>0.0</td>\n",
              "      <td>0.00</td>\n",
              "      <td>0.000000</td>\n",
              "      <td>610.00</td>\n",
              "      <td>4820.0</td>\n",
              "    </tr>\n",
              "    <tr>\n",
              "      <th>yr_built</th>\n",
              "      <td>4600.0</td>\n",
              "      <td>1970.786304</td>\n",
              "      <td>29.731848</td>\n",
              "      <td>1900.0</td>\n",
              "      <td>1951.00</td>\n",
              "      <td>1976.000000</td>\n",
              "      <td>1997.00</td>\n",
              "      <td>2014.0</td>\n",
              "    </tr>\n",
              "    <tr>\n",
              "      <th>yr_renovated</th>\n",
              "      <td>4600.0</td>\n",
              "      <td>808.608261</td>\n",
              "      <td>979.414536</td>\n",
              "      <td>0.0</td>\n",
              "      <td>0.00</td>\n",
              "      <td>0.000000</td>\n",
              "      <td>1999.00</td>\n",
              "      <td>2014.0</td>\n",
              "    </tr>\n",
              "    <tr>\n",
              "      <th>city</th>\n",
              "      <td>4600.0</td>\n",
              "      <td>25.674348</td>\n",
              "      <td>11.982721</td>\n",
              "      <td>0.0</td>\n",
              "      <td>17.00</td>\n",
              "      <td>32.000000</td>\n",
              "      <td>35.00</td>\n",
              "      <td>43.0</td>\n",
              "    </tr>\n",
              "    <tr>\n",
              "      <th>statezip</th>\n",
              "      <td>4600.0</td>\n",
              "      <td>38.743696</td>\n",
              "      <td>20.919517</td>\n",
              "      <td>0.0</td>\n",
              "      <td>21.00</td>\n",
              "      <td>41.000000</td>\n",
              "      <td>56.00</td>\n",
              "      <td>76.0</td>\n",
              "    </tr>\n",
              "  </tbody>\n",
              "</table>\n",
              "</div>"
            ],
            "text/plain": [
              "                count           mean  ...        75%         max\n",
              "price          4600.0  551962.988473  ...  654962.50  26590000.0\n",
              "bedrooms       4600.0       3.400870  ...       4.00         9.0\n",
              "bathrooms      4600.0       2.160815  ...       2.50         8.0\n",
              "sqft_living    4600.0    2139.346957  ...    2620.00     13540.0\n",
              "sqft_lot       4600.0   14852.516087  ...   11001.25   1074218.0\n",
              "floors         4600.0       1.512065  ...       2.00         3.5\n",
              "waterfront     4600.0       0.007174  ...       0.00         1.0\n",
              "view           4600.0       0.240652  ...       0.00         4.0\n",
              "condition      4600.0       3.451739  ...       4.00         5.0\n",
              "sqft_above     4600.0    1827.265435  ...    2300.00      9410.0\n",
              "sqft_basement  4600.0     312.081522  ...     610.00      4820.0\n",
              "yr_built       4600.0    1970.786304  ...    1997.00      2014.0\n",
              "yr_renovated   4600.0     808.608261  ...    1999.00      2014.0\n",
              "city           4600.0      25.674348  ...      35.00        43.0\n",
              "statezip       4600.0      38.743696  ...      56.00        76.0\n",
              "\n",
              "[15 rows x 8 columns]"
            ]
          },
          "metadata": {
            "tags": []
          },
          "execution_count": 28
        }
      ]
    },
    {
      "cell_type": "code",
      "metadata": {
        "trusted": true,
        "colab": {
          "base_uri": "https://localhost:8080/",
          "height": 534
        },
        "id": "YuJuw1JfH9qi",
        "outputId": "4758e155-8ba0-4187-909f-381a6042add2"
      },
      "source": [
        "train_csv.corr(method='pearson')"
      ],
      "execution_count": null,
      "outputs": [
        {
          "output_type": "execute_result",
          "data": {
            "text/html": [
              "<div>\n",
              "<style scoped>\n",
              "    .dataframe tbody tr th:only-of-type {\n",
              "        vertical-align: middle;\n",
              "    }\n",
              "\n",
              "    .dataframe tbody tr th {\n",
              "        vertical-align: top;\n",
              "    }\n",
              "\n",
              "    .dataframe thead th {\n",
              "        text-align: right;\n",
              "    }\n",
              "</style>\n",
              "<table border=\"1\" class=\"dataframe\">\n",
              "  <thead>\n",
              "    <tr style=\"text-align: right;\">\n",
              "      <th></th>\n",
              "      <th>price</th>\n",
              "      <th>bedrooms</th>\n",
              "      <th>bathrooms</th>\n",
              "      <th>sqft_living</th>\n",
              "      <th>sqft_lot</th>\n",
              "      <th>floors</th>\n",
              "      <th>waterfront</th>\n",
              "      <th>view</th>\n",
              "      <th>condition</th>\n",
              "      <th>sqft_above</th>\n",
              "      <th>sqft_basement</th>\n",
              "      <th>yr_built</th>\n",
              "      <th>yr_renovated</th>\n",
              "      <th>city</th>\n",
              "      <th>statezip</th>\n",
              "    </tr>\n",
              "  </thead>\n",
              "  <tbody>\n",
              "    <tr>\n",
              "      <th>price</th>\n",
              "      <td>1.000000</td>\n",
              "      <td>0.200336</td>\n",
              "      <td>0.327110</td>\n",
              "      <td>0.430410</td>\n",
              "      <td>0.050451</td>\n",
              "      <td>0.151461</td>\n",
              "      <td>0.135648</td>\n",
              "      <td>0.228504</td>\n",
              "      <td>0.034915</td>\n",
              "      <td>0.367570</td>\n",
              "      <td>0.210427</td>\n",
              "      <td>0.021857</td>\n",
              "      <td>-0.028774</td>\n",
              "      <td>0.018625</td>\n",
              "      <td>-0.043385</td>\n",
              "    </tr>\n",
              "    <tr>\n",
              "      <th>bedrooms</th>\n",
              "      <td>0.200336</td>\n",
              "      <td>1.000000</td>\n",
              "      <td>0.545920</td>\n",
              "      <td>0.594884</td>\n",
              "      <td>0.068819</td>\n",
              "      <td>0.177895</td>\n",
              "      <td>-0.003483</td>\n",
              "      <td>0.111028</td>\n",
              "      <td>0.025080</td>\n",
              "      <td>0.484705</td>\n",
              "      <td>0.334165</td>\n",
              "      <td>0.142461</td>\n",
              "      <td>-0.061082</td>\n",
              "      <td>-0.130447</td>\n",
              "      <td>-0.152773</td>\n",
              "    </tr>\n",
              "    <tr>\n",
              "      <th>bathrooms</th>\n",
              "      <td>0.327110</td>\n",
              "      <td>0.545920</td>\n",
              "      <td>1.000000</td>\n",
              "      <td>0.761154</td>\n",
              "      <td>0.107837</td>\n",
              "      <td>0.486428</td>\n",
              "      <td>0.076232</td>\n",
              "      <td>0.211960</td>\n",
              "      <td>-0.119994</td>\n",
              "      <td>0.689918</td>\n",
              "      <td>0.298020</td>\n",
              "      <td>0.463498</td>\n",
              "      <td>-0.215886</td>\n",
              "      <td>-0.097026</td>\n",
              "      <td>-0.194497</td>\n",
              "    </tr>\n",
              "    <tr>\n",
              "      <th>sqft_living</th>\n",
              "      <td>0.430410</td>\n",
              "      <td>0.594884</td>\n",
              "      <td>0.761154</td>\n",
              "      <td>1.000000</td>\n",
              "      <td>0.210538</td>\n",
              "      <td>0.344850</td>\n",
              "      <td>0.117616</td>\n",
              "      <td>0.311009</td>\n",
              "      <td>-0.062826</td>\n",
              "      <td>0.876443</td>\n",
              "      <td>0.447206</td>\n",
              "      <td>0.287775</td>\n",
              "      <td>-0.122817</td>\n",
              "      <td>-0.109686</td>\n",
              "      <td>-0.198918</td>\n",
              "    </tr>\n",
              "    <tr>\n",
              "      <th>sqft_lot</th>\n",
              "      <td>0.050451</td>\n",
              "      <td>0.068819</td>\n",
              "      <td>0.107837</td>\n",
              "      <td>0.210538</td>\n",
              "      <td>1.000000</td>\n",
              "      <td>0.003750</td>\n",
              "      <td>0.017241</td>\n",
              "      <td>0.073907</td>\n",
              "      <td>0.000558</td>\n",
              "      <td>0.216455</td>\n",
              "      <td>0.034842</td>\n",
              "      <td>0.050706</td>\n",
              "      <td>-0.022730</td>\n",
              "      <td>-0.079135</td>\n",
              "      <td>-0.128466</td>\n",
              "    </tr>\n",
              "    <tr>\n",
              "      <th>floors</th>\n",
              "      <td>0.151461</td>\n",
              "      <td>0.177895</td>\n",
              "      <td>0.486428</td>\n",
              "      <td>0.344850</td>\n",
              "      <td>0.003750</td>\n",
              "      <td>1.000000</td>\n",
              "      <td>0.022024</td>\n",
              "      <td>0.031211</td>\n",
              "      <td>-0.275013</td>\n",
              "      <td>0.522814</td>\n",
              "      <td>-0.255510</td>\n",
              "      <td>0.467481</td>\n",
              "      <td>-0.233996</td>\n",
              "      <td>0.078481</td>\n",
              "      <td>-0.038943</td>\n",
              "    </tr>\n",
              "    <tr>\n",
              "      <th>waterfront</th>\n",
              "      <td>0.135648</td>\n",
              "      <td>-0.003483</td>\n",
              "      <td>0.076232</td>\n",
              "      <td>0.117616</td>\n",
              "      <td>0.017241</td>\n",
              "      <td>0.022024</td>\n",
              "      <td>1.000000</td>\n",
              "      <td>0.360935</td>\n",
              "      <td>0.000352</td>\n",
              "      <td>0.078911</td>\n",
              "      <td>0.097501</td>\n",
              "      <td>-0.023563</td>\n",
              "      <td>0.008625</td>\n",
              "      <td>0.001450</td>\n",
              "      <td>0.007938</td>\n",
              "    </tr>\n",
              "    <tr>\n",
              "      <th>view</th>\n",
              "      <td>0.228504</td>\n",
              "      <td>0.111028</td>\n",
              "      <td>0.211960</td>\n",
              "      <td>0.311009</td>\n",
              "      <td>0.073907</td>\n",
              "      <td>0.031211</td>\n",
              "      <td>0.360935</td>\n",
              "      <td>1.000000</td>\n",
              "      <td>0.063077</td>\n",
              "      <td>0.174327</td>\n",
              "      <td>0.321602</td>\n",
              "      <td>-0.064465</td>\n",
              "      <td>0.022967</td>\n",
              "      <td>0.001340</td>\n",
              "      <td>0.079340</td>\n",
              "    </tr>\n",
              "    <tr>\n",
              "      <th>condition</th>\n",
              "      <td>0.034915</td>\n",
              "      <td>0.025080</td>\n",
              "      <td>-0.119994</td>\n",
              "      <td>-0.062826</td>\n",
              "      <td>0.000558</td>\n",
              "      <td>-0.275013</td>\n",
              "      <td>0.000352</td>\n",
              "      <td>0.063077</td>\n",
              "      <td>1.000000</td>\n",
              "      <td>-0.178196</td>\n",
              "      <td>0.200632</td>\n",
              "      <td>-0.399698</td>\n",
              "      <td>-0.186818</td>\n",
              "      <td>-0.010592</td>\n",
              "      <td>0.027666</td>\n",
              "    </tr>\n",
              "    <tr>\n",
              "      <th>sqft_above</th>\n",
              "      <td>0.367570</td>\n",
              "      <td>0.484705</td>\n",
              "      <td>0.689918</td>\n",
              "      <td>0.876443</td>\n",
              "      <td>0.216455</td>\n",
              "      <td>0.522814</td>\n",
              "      <td>0.078911</td>\n",
              "      <td>0.174327</td>\n",
              "      <td>-0.178196</td>\n",
              "      <td>1.000000</td>\n",
              "      <td>-0.038723</td>\n",
              "      <td>0.408535</td>\n",
              "      <td>-0.160426</td>\n",
              "      <td>-0.121701</td>\n",
              "      <td>-0.247666</td>\n",
              "    </tr>\n",
              "    <tr>\n",
              "      <th>sqft_basement</th>\n",
              "      <td>0.210427</td>\n",
              "      <td>0.334165</td>\n",
              "      <td>0.298020</td>\n",
              "      <td>0.447206</td>\n",
              "      <td>0.034842</td>\n",
              "      <td>-0.255510</td>\n",
              "      <td>0.097501</td>\n",
              "      <td>0.321602</td>\n",
              "      <td>0.200632</td>\n",
              "      <td>-0.038723</td>\n",
              "      <td>1.000000</td>\n",
              "      <td>-0.161675</td>\n",
              "      <td>0.043125</td>\n",
              "      <td>-0.001559</td>\n",
              "      <td>0.047251</td>\n",
              "    </tr>\n",
              "    <tr>\n",
              "      <th>yr_built</th>\n",
              "      <td>0.021857</td>\n",
              "      <td>0.142461</td>\n",
              "      <td>0.463498</td>\n",
              "      <td>0.287775</td>\n",
              "      <td>0.050706</td>\n",
              "      <td>0.467481</td>\n",
              "      <td>-0.023563</td>\n",
              "      <td>-0.064465</td>\n",
              "      <td>-0.399698</td>\n",
              "      <td>0.408535</td>\n",
              "      <td>-0.161675</td>\n",
              "      <td>1.000000</td>\n",
              "      <td>-0.321342</td>\n",
              "      <td>-0.211110</td>\n",
              "      <td>-0.339494</td>\n",
              "    </tr>\n",
              "    <tr>\n",
              "      <th>yr_renovated</th>\n",
              "      <td>-0.028774</td>\n",
              "      <td>-0.061082</td>\n",
              "      <td>-0.215886</td>\n",
              "      <td>-0.122817</td>\n",
              "      <td>-0.022730</td>\n",
              "      <td>-0.233996</td>\n",
              "      <td>0.008625</td>\n",
              "      <td>0.022967</td>\n",
              "      <td>-0.186818</td>\n",
              "      <td>-0.160426</td>\n",
              "      <td>0.043125</td>\n",
              "      <td>-0.321342</td>\n",
              "      <td>1.000000</td>\n",
              "      <td>0.075637</td>\n",
              "      <td>0.161278</td>\n",
              "    </tr>\n",
              "    <tr>\n",
              "      <th>city</th>\n",
              "      <td>0.018625</td>\n",
              "      <td>-0.130447</td>\n",
              "      <td>-0.097026</td>\n",
              "      <td>-0.109686</td>\n",
              "      <td>-0.079135</td>\n",
              "      <td>0.078481</td>\n",
              "      <td>0.001450</td>\n",
              "      <td>0.001340</td>\n",
              "      <td>-0.010592</td>\n",
              "      <td>-0.121701</td>\n",
              "      <td>-0.001559</td>\n",
              "      <td>-0.211110</td>\n",
              "      <td>0.075637</td>\n",
              "      <td>1.000000</td>\n",
              "      <td>0.683512</td>\n",
              "    </tr>\n",
              "    <tr>\n",
              "      <th>statezip</th>\n",
              "      <td>-0.043385</td>\n",
              "      <td>-0.152773</td>\n",
              "      <td>-0.194497</td>\n",
              "      <td>-0.198918</td>\n",
              "      <td>-0.128466</td>\n",
              "      <td>-0.038943</td>\n",
              "      <td>0.007938</td>\n",
              "      <td>0.079340</td>\n",
              "      <td>0.027666</td>\n",
              "      <td>-0.247666</td>\n",
              "      <td>0.047251</td>\n",
              "      <td>-0.339494</td>\n",
              "      <td>0.161278</td>\n",
              "      <td>0.683512</td>\n",
              "      <td>1.000000</td>\n",
              "    </tr>\n",
              "  </tbody>\n",
              "</table>\n",
              "</div>"
            ],
            "text/plain": [
              "                  price  bedrooms  bathrooms  ...  yr_renovated      city  statezip\n",
              "price          1.000000  0.200336   0.327110  ...     -0.028774  0.018625 -0.043385\n",
              "bedrooms       0.200336  1.000000   0.545920  ...     -0.061082 -0.130447 -0.152773\n",
              "bathrooms      0.327110  0.545920   1.000000  ...     -0.215886 -0.097026 -0.194497\n",
              "sqft_living    0.430410  0.594884   0.761154  ...     -0.122817 -0.109686 -0.198918\n",
              "sqft_lot       0.050451  0.068819   0.107837  ...     -0.022730 -0.079135 -0.128466\n",
              "floors         0.151461  0.177895   0.486428  ...     -0.233996  0.078481 -0.038943\n",
              "waterfront     0.135648 -0.003483   0.076232  ...      0.008625  0.001450  0.007938\n",
              "view           0.228504  0.111028   0.211960  ...      0.022967  0.001340  0.079340\n",
              "condition      0.034915  0.025080  -0.119994  ...     -0.186818 -0.010592  0.027666\n",
              "sqft_above     0.367570  0.484705   0.689918  ...     -0.160426 -0.121701 -0.247666\n",
              "sqft_basement  0.210427  0.334165   0.298020  ...      0.043125 -0.001559  0.047251\n",
              "yr_built       0.021857  0.142461   0.463498  ...     -0.321342 -0.211110 -0.339494\n",
              "yr_renovated  -0.028774 -0.061082  -0.215886  ...      1.000000  0.075637  0.161278\n",
              "city           0.018625 -0.130447  -0.097026  ...      0.075637  1.000000  0.683512\n",
              "statezip      -0.043385 -0.152773  -0.194497  ...      0.161278  0.683512  1.000000\n",
              "\n",
              "[15 rows x 15 columns]"
            ]
          },
          "metadata": {
            "tags": []
          },
          "execution_count": 29
        }
      ]
    },
    {
      "cell_type": "code",
      "metadata": {
        "trusted": true,
        "id": "K5i0ngpaH9qj"
      },
      "source": [
        "def Outlier1(data):\n",
        "    threshold=3\n",
        "    for i in range(len(data.columns)):\n",
        "        X=data.iloc[:,i]\n",
        "        outlier=[]\n",
        "        \n",
        "        mean_data=np.mean(X)\n",
        "        print(mean_data)\n",
        "        std_data=np.std(X)\n",
        "        print(std_data)\n",
        "        for j in X:\n",
        "            z_score=(j-mean_data)/std_data\n",
        "            if np.abs(z_score)>threshold:\n",
        "                outlier.append(j)\n",
        "        for j in outlier:\n",
        "            data=data[data[data.columns[i]]!=j]\n",
        "    return data"
      ],
      "execution_count": null,
      "outputs": []
    },
    {
      "cell_type": "code",
      "metadata": {
        "trusted": true,
        "colab": {
          "base_uri": "https://localhost:8080/"
        },
        "id": "U9wICx5cH9qj",
        "outputId": "4cf15e52-02f3-484b-81f9-bb50ba4b4cc9"
      },
      "source": [
        "train = Outlier1(train_csv)"
      ],
      "execution_count": null,
      "outputs": [
        {
          "output_type": "stream",
          "text": [
            "551962.9884732141\n",
            "563773.4128352863\n",
            "3.3931230836618482\n",
            "0.9032651222313528\n",
            "2.142888546933392\n",
            "0.7544289169006052\n",
            "2086.741906873614\n",
            "860.8113382126629\n",
            "14209.660854012967\n",
            "34833.39375339168\n",
            "1.5003405221339388\n",
            "0.5373135955247358\n",
            "0.004995458673932788\n",
            "0.07050180186753939\n",
            "0.18872660885440437\n",
            "0.6767514246401717\n",
            "3.4513170272812794\n",
            "0.6756277567028062\n",
            "1744.2359868111164\n",
            "754.5176739398595\n",
            "279.01760647156794\n",
            "413.0985468352021\n",
            "1970.367777511388\n",
            "29.83124368523057\n",
            "815.1970750419564\n",
            "980.4826347651655\n",
            "25.90218173099976\n",
            "11.79313107605021\n",
            "39.050347638456\n",
            "20.79837462871394\n"
          ],
          "name": "stdout"
        }
      ]
    },
    {
      "cell_type": "code",
      "metadata": {
        "trusted": true,
        "colab": {
          "base_uri": "https://localhost:8080/"
        },
        "id": "JXxfJfleH9qm",
        "outputId": "c64f0c85-30ba-4283-b20d-d16e0628d46f"
      },
      "source": [
        "test = Outlier1(test_csv)"
      ],
      "execution_count": null,
      "outputs": [
        {
          "output_type": "stream",
          "text": [
            "551962.9884732141\n",
            "563773.4128352863\n",
            "3.3931230836618482\n",
            "0.9032651222313528\n",
            "2.142888546933392\n",
            "0.7544289169006052\n",
            "2086.4935698447894\n",
            "860.7426156535489\n",
            "14209.660854012967\n",
            "34833.39375339168\n",
            "1.5003405221339388\n",
            "0.5373135955247358\n",
            "0.004995458673932788\n",
            "0.07050180186753939\n",
            "0.18872660885440437\n",
            "0.6767514246401717\n",
            "3.4513170272812794\n",
            "0.6756277567028062\n",
            "1744.2359868111164\n",
            "754.5176739398595\n",
            "279.01760647156794\n",
            "413.0985468352021\n",
            "1970.367777511388\n",
            "29.83124368523057\n",
            "815.1970750419564\n",
            "980.4826347651655\n",
            "25.90218173099976\n",
            "11.79313107605021\n",
            "39.050347638456\n",
            "20.79837462871394\n"
          ],
          "name": "stdout"
        }
      ]
    },
    {
      "cell_type": "code",
      "metadata": {
        "trusted": true,
        "colab": {
          "base_uri": "https://localhost:8080/"
        },
        "id": "-3xCJQGfH9qm",
        "outputId": "dbd7623a-3d44-471e-ab14-14efeb7d0e3e"
      },
      "source": [
        "train_csv.shape"
      ],
      "execution_count": null,
      "outputs": [
        {
          "output_type": "execute_result",
          "data": {
            "text/plain": [
              "(4600, 15)"
            ]
          },
          "metadata": {
            "tags": []
          },
          "execution_count": 33
        }
      ]
    },
    {
      "cell_type": "code",
      "metadata": {
        "trusted": true,
        "id": "94E3lwzoH9qn"
      },
      "source": [
        "x_train = train_csv.iloc[:,1:]\n",
        "y_train = train_csv.iloc[:,0]\n",
        "x_test = test_csv.iloc[:,1:]\n",
        "y_test = test_csv.iloc[:,0]"
      ],
      "execution_count": null,
      "outputs": []
    },
    {
      "cell_type": "code",
      "metadata": {
        "trusted": true,
        "colab": {
          "base_uri": "https://localhost:8080/",
          "height": 100
        },
        "id": "nQV8B8cgH9qn",
        "outputId": "fb66536e-3d0e-44d3-a393-0bceb556a131"
      },
      "source": [
        "train_csv.head(1)"
      ],
      "execution_count": null,
      "outputs": [
        {
          "output_type": "execute_result",
          "data": {
            "text/html": [
              "<div>\n",
              "<style scoped>\n",
              "    .dataframe tbody tr th:only-of-type {\n",
              "        vertical-align: middle;\n",
              "    }\n",
              "\n",
              "    .dataframe tbody tr th {\n",
              "        vertical-align: top;\n",
              "    }\n",
              "\n",
              "    .dataframe thead th {\n",
              "        text-align: right;\n",
              "    }\n",
              "</style>\n",
              "<table border=\"1\" class=\"dataframe\">\n",
              "  <thead>\n",
              "    <tr style=\"text-align: right;\">\n",
              "      <th></th>\n",
              "      <th>price</th>\n",
              "      <th>bedrooms</th>\n",
              "      <th>bathrooms</th>\n",
              "      <th>sqft_living</th>\n",
              "      <th>sqft_lot</th>\n",
              "      <th>floors</th>\n",
              "      <th>waterfront</th>\n",
              "      <th>view</th>\n",
              "      <th>condition</th>\n",
              "      <th>sqft_above</th>\n",
              "      <th>sqft_basement</th>\n",
              "      <th>yr_built</th>\n",
              "      <th>yr_renovated</th>\n",
              "      <th>city</th>\n",
              "      <th>statezip</th>\n",
              "    </tr>\n",
              "  </thead>\n",
              "  <tbody>\n",
              "    <tr>\n",
              "      <th>0</th>\n",
              "      <td>313000.0</td>\n",
              "      <td>3.0</td>\n",
              "      <td>1.5</td>\n",
              "      <td>1340</td>\n",
              "      <td>7912</td>\n",
              "      <td>1.5</td>\n",
              "      <td>0</td>\n",
              "      <td>0</td>\n",
              "      <td>3</td>\n",
              "      <td>1340</td>\n",
              "      <td>0</td>\n",
              "      <td>1955</td>\n",
              "      <td>2005</td>\n",
              "      <td>36</td>\n",
              "      <td>62</td>\n",
              "    </tr>\n",
              "  </tbody>\n",
              "</table>\n",
              "</div>"
            ],
            "text/plain": [
              "      price  bedrooms  bathrooms  ...  yr_renovated  city  statezip\n",
              "0  313000.0       3.0        1.5  ...          2005    36        62\n",
              "\n",
              "[1 rows x 15 columns]"
            ]
          },
          "metadata": {
            "tags": []
          },
          "execution_count": 35
        }
      ]
    },
    {
      "cell_type": "code",
      "metadata": {
        "trusted": true,
        "colab": {
          "base_uri": "https://localhost:8080/"
        },
        "id": "ntbPIKu-H9qp",
        "outputId": "722c0775-11e2-4a5b-96f1-51289ca65b00"
      },
      "source": [
        "from sklearn.feature_selection import VarianceThreshold\n",
        "transform = VarianceThreshold(0)\n",
        "x_train = transform.fit_transform(x_train)\n",
        "print(x_train.shape)"
      ],
      "execution_count": null,
      "outputs": [
        {
          "output_type": "stream",
          "text": [
            "(4600, 14)\n"
          ],
          "name": "stdout"
        }
      ]
    },
    {
      "cell_type": "code",
      "metadata": {
        "id": "NfeyUPBUJlvC"
      },
      "source": [
        "x_test = transform.fit_transform(x_test)"
      ],
      "execution_count": null,
      "outputs": []
    },
    {
      "cell_type": "code",
      "metadata": {
        "colab": {
          "base_uri": "https://localhost:8080/"
        },
        "id": "WmfFqwAFI7Pv",
        "outputId": "3284b8b4-6dc0-4236-f7aa-6838fc2fddfe"
      },
      "source": [
        "x_test"
      ],
      "execution_count": null,
      "outputs": [
        {
          "output_type": "execute_result",
          "data": {
            "text/plain": [
              "array([[3.000e+00, 1.500e+00, 1.340e+03, ..., 2.005e+03, 3.600e+01,\n",
              "        6.200e+01],\n",
              "       [5.000e+00, 2.500e+00, 3.650e+03, ..., 0.000e+00, 3.500e+01,\n",
              "        5.800e+01],\n",
              "       [3.000e+00, 2.000e+00, 1.930e+03, ..., 0.000e+00, 1.800e+01,\n",
              "        2.600e+01],\n",
              "       ...,\n",
              "       [3.000e+00, 2.500e+00, 3.010e+03, ..., 0.000e+00, 3.200e+01,\n",
              "        3.700e+01],\n",
              "       [4.000e+00, 2.000e+00, 2.090e+03, ..., 0.000e+00, 3.500e+01,\n",
              "        7.100e+01],\n",
              "       [3.000e+00, 2.500e+00, 1.490e+03, ..., 0.000e+00, 9.000e+00,\n",
              "        2.600e+01]])"
            ]
          },
          "metadata": {
            "tags": []
          },
          "execution_count": 38
        }
      ]
    },
    {
      "cell_type": "code",
      "metadata": {
        "colab": {
          "base_uri": "https://localhost:8080/"
        },
        "id": "LBDcnI4CI7Mc",
        "outputId": "ec2c254e-c480-4eb6-a729-f5aea833bf79"
      },
      "source": [
        "from sklearn.linear_model import LinearRegression\n",
        "model = LinearRegression()\n",
        "model.fit(x_train,y_train)\n",
        "print(model.score(x_test, y_test))"
      ],
      "execution_count": null,
      "outputs": [
        {
          "output_type": "stream",
          "text": [
            "0.22012513276775159\n"
          ],
          "name": "stdout"
        }
      ]
    },
    {
      "cell_type": "code",
      "metadata": {
        "colab": {
          "base_uri": "https://localhost:8080/"
        },
        "id": "FpTIMH8bpt5I",
        "outputId": "3cd3d80f-c139-480d-db30-57173464defb"
      },
      "source": [
        "x_train.shape"
      ],
      "execution_count": null,
      "outputs": [
        {
          "output_type": "execute_result",
          "data": {
            "text/plain": [
              "(4600, 14)"
            ]
          },
          "metadata": {
            "tags": []
          },
          "execution_count": 46
        }
      ]
    },
    {
      "cell_type": "code",
      "metadata": {
        "colab": {
          "base_uri": "https://localhost:8080/"
        },
        "id": "1CJmnA_XKFCA",
        "outputId": "8286423b-796b-4cb8-dd4f-7d3847b233c9"
      },
      "source": [
        "x_test.shape"
      ],
      "execution_count": null,
      "outputs": [
        {
          "output_type": "execute_result",
          "data": {
            "text/plain": [
              "(4600, 14)"
            ]
          },
          "metadata": {
            "tags": []
          },
          "execution_count": 40
        }
      ]
    },
    {
      "cell_type": "code",
      "metadata": {
        "colab": {
          "base_uri": "https://localhost:8080/"
        },
        "id": "enmDn31PKHj-",
        "outputId": "77c7fe96-bfc9-4f49-b053-34971a722822"
      },
      "source": [
        "y_test.shape"
      ],
      "execution_count": null,
      "outputs": [
        {
          "output_type": "execute_result",
          "data": {
            "text/plain": [
              "(4600,)"
            ]
          },
          "metadata": {
            "tags": []
          },
          "execution_count": 41
        }
      ]
    },
    {
      "cell_type": "code",
      "metadata": {
        "id": "P48USBZq7D04",
        "colab": {
          "base_uri": "https://localhost:8080/"
        },
        "outputId": "d3afd27a-88b8-4c33-cf20-027ca574a9c9"
      },
      "source": [
        "###############3random forest regression \n",
        "from sklearn.ensemble import RandomForestRegressor\n",
        "rf = RandomForestRegressor(n_estimators = 100, random_state = 42)\n",
        "rf.fit(x_train,y_train)"
      ],
      "execution_count": null,
      "outputs": [
        {
          "output_type": "execute_result",
          "data": {
            "text/plain": [
              "RandomForestRegressor(bootstrap=True, ccp_alpha=0.0, criterion='mse',\n",
              "                      max_depth=None, max_features='auto', max_leaf_nodes=None,\n",
              "                      max_samples=None, min_impurity_decrease=0.0,\n",
              "                      min_impurity_split=None, min_samples_leaf=1,\n",
              "                      min_samples_split=2, min_weight_fraction_leaf=0.0,\n",
              "                      n_estimators=100, n_jobs=None, oob_score=False,\n",
              "                      random_state=42, verbose=0, warm_start=False)"
            ]
          },
          "metadata": {
            "tags": []
          },
          "execution_count": 47
        }
      ]
    },
    {
      "cell_type": "code",
      "metadata": {
        "colab": {
          "base_uri": "https://localhost:8080/",
          "height": 340
        },
        "id": "gIXcpz8Yo9c8",
        "outputId": "0c57e3b1-1327-4a3a-ea7f-3b9b55d993b4"
      },
      "source": [
        "predictions = rf.predict(x_test)\n",
        "errors = abs(predictions - y_test)\n",
        "mape = 100 * (errors / x_test)\n"
      ],
      "execution_count": null,
      "outputs": [
        {
          "output_type": "error",
          "ename": "ValueError",
          "evalue": "ignored",
          "traceback": [
            "\u001b[0;31m---------------------------------------------------------------------------\u001b[0m",
            "\u001b[0;31mValueError\u001b[0m                                Traceback (most recent call last)",
            "\u001b[0;32m<ipython-input-48-5ee231721c44>\u001b[0m in \u001b[0;36m<module>\u001b[0;34m()\u001b[0m\n\u001b[0;32m----> 1\u001b[0;31m \u001b[0mpredictions\u001b[0m \u001b[0;34m=\u001b[0m \u001b[0mrf\u001b[0m\u001b[0;34m.\u001b[0m\u001b[0mpredict\u001b[0m\u001b[0;34m(\u001b[0m\u001b[0mx_test\u001b[0m\u001b[0;34m)\u001b[0m\u001b[0;34m\u001b[0m\u001b[0;34m\u001b[0m\u001b[0m\n\u001b[0m\u001b[1;32m      2\u001b[0m \u001b[0merrors\u001b[0m \u001b[0;34m=\u001b[0m \u001b[0mabs\u001b[0m\u001b[0;34m(\u001b[0m\u001b[0mpredictions\u001b[0m \u001b[0;34m-\u001b[0m \u001b[0my_test\u001b[0m\u001b[0;34m)\u001b[0m\u001b[0;34m\u001b[0m\u001b[0;34m\u001b[0m\u001b[0m\n\u001b[1;32m      3\u001b[0m \u001b[0mmape\u001b[0m \u001b[0;34m=\u001b[0m \u001b[0;36m100\u001b[0m \u001b[0;34m*\u001b[0m \u001b[0;34m(\u001b[0m\u001b[0merrors\u001b[0m \u001b[0;34m/\u001b[0m \u001b[0mx_test\u001b[0m\u001b[0;34m)\u001b[0m\u001b[0;34m\u001b[0m\u001b[0;34m\u001b[0m\u001b[0m\n",
            "\u001b[0;32m/usr/local/lib/python3.7/dist-packages/sklearn/ensemble/_forest.py\u001b[0m in \u001b[0;36mpredict\u001b[0;34m(self, X)\u001b[0m\n\u001b[1;32m    764\u001b[0m         \u001b[0mcheck_is_fitted\u001b[0m\u001b[0;34m(\u001b[0m\u001b[0mself\u001b[0m\u001b[0;34m)\u001b[0m\u001b[0;34m\u001b[0m\u001b[0;34m\u001b[0m\u001b[0m\n\u001b[1;32m    765\u001b[0m         \u001b[0;31m# Check data\u001b[0m\u001b[0;34m\u001b[0m\u001b[0;34m\u001b[0m\u001b[0;34m\u001b[0m\u001b[0m\n\u001b[0;32m--> 766\u001b[0;31m         \u001b[0mX\u001b[0m \u001b[0;34m=\u001b[0m \u001b[0mself\u001b[0m\u001b[0;34m.\u001b[0m\u001b[0m_validate_X_predict\u001b[0m\u001b[0;34m(\u001b[0m\u001b[0mX\u001b[0m\u001b[0;34m)\u001b[0m\u001b[0;34m\u001b[0m\u001b[0;34m\u001b[0m\u001b[0m\n\u001b[0m\u001b[1;32m    767\u001b[0m \u001b[0;34m\u001b[0m\u001b[0m\n\u001b[1;32m    768\u001b[0m         \u001b[0;31m# Assign chunk of trees to jobs\u001b[0m\u001b[0;34m\u001b[0m\u001b[0;34m\u001b[0m\u001b[0;34m\u001b[0m\u001b[0m\n",
            "\u001b[0;32m/usr/local/lib/python3.7/dist-packages/sklearn/ensemble/_forest.py\u001b[0m in \u001b[0;36m_validate_X_predict\u001b[0;34m(self, X)\u001b[0m\n\u001b[1;32m    410\u001b[0m         \u001b[0mcheck_is_fitted\u001b[0m\u001b[0;34m(\u001b[0m\u001b[0mself\u001b[0m\u001b[0;34m)\u001b[0m\u001b[0;34m\u001b[0m\u001b[0;34m\u001b[0m\u001b[0m\n\u001b[1;32m    411\u001b[0m \u001b[0;34m\u001b[0m\u001b[0m\n\u001b[0;32m--> 412\u001b[0;31m         \u001b[0;32mreturn\u001b[0m \u001b[0mself\u001b[0m\u001b[0;34m.\u001b[0m\u001b[0mestimators_\u001b[0m\u001b[0;34m[\u001b[0m\u001b[0;36m0\u001b[0m\u001b[0;34m]\u001b[0m\u001b[0;34m.\u001b[0m\u001b[0m_validate_X_predict\u001b[0m\u001b[0;34m(\u001b[0m\u001b[0mX\u001b[0m\u001b[0;34m,\u001b[0m \u001b[0mcheck_input\u001b[0m\u001b[0;34m=\u001b[0m\u001b[0;32mTrue\u001b[0m\u001b[0;34m)\u001b[0m\u001b[0;34m\u001b[0m\u001b[0;34m\u001b[0m\u001b[0m\n\u001b[0m\u001b[1;32m    413\u001b[0m \u001b[0;34m\u001b[0m\u001b[0m\n\u001b[1;32m    414\u001b[0m     \u001b[0;34m@\u001b[0m\u001b[0mproperty\u001b[0m\u001b[0;34m\u001b[0m\u001b[0;34m\u001b[0m\u001b[0m\n",
            "\u001b[0;32m/usr/local/lib/python3.7/dist-packages/sklearn/tree/_classes.py\u001b[0m in \u001b[0;36m_validate_X_predict\u001b[0;34m(self, X, check_input)\u001b[0m\n\u001b[1;32m    389\u001b[0m                              \u001b[0;34m\"match the input. Model n_features is %s and \"\u001b[0m\u001b[0;34m\u001b[0m\u001b[0;34m\u001b[0m\u001b[0m\n\u001b[1;32m    390\u001b[0m                              \u001b[0;34m\"input n_features is %s \"\u001b[0m\u001b[0;34m\u001b[0m\u001b[0;34m\u001b[0m\u001b[0m\n\u001b[0;32m--> 391\u001b[0;31m                              % (self.n_features_, n_features))\n\u001b[0m\u001b[1;32m    392\u001b[0m \u001b[0;34m\u001b[0m\u001b[0m\n\u001b[1;32m    393\u001b[0m         \u001b[0;32mreturn\u001b[0m \u001b[0mX\u001b[0m\u001b[0;34m\u001b[0m\u001b[0;34m\u001b[0m\u001b[0m\n",
            "\u001b[0;31mValueError\u001b[0m: Number of features of the model must match the input. Model n_features is 14 and input n_features is 120 "
          ]
        }
      ]
    },
    {
      "cell_type": "code",
      "metadata": {
        "colab": {
          "base_uri": "https://localhost:8080/",
          "height": 214
        },
        "id": "p5_HvYBPKHNw",
        "outputId": "d987f640-b237-4131-f198-d824530dc2a7"
      },
      "source": [
        "from sklearn.preprocessing import PolynomialFeatures\n",
        "from sklearn import linear_model\n",
        "poly = PolynomialFeatures(degree=2)\n",
        "X_train = poly.fit_transform(x_train)\n",
        "x_test = poly.fit_transform(x_test)\n",
        "\n",
        "clf = linear_model.LinearRegression()\n",
        "clf.fit(X_train,)\n",
        "print(clf.predict(X_test))"
      ],
      "execution_count": null,
      "outputs": [
        {
          "output_type": "error",
          "ename": "TypeError",
          "evalue": "ignored",
          "traceback": [
            "\u001b[0;31m---------------------------------------------------------------------------\u001b[0m",
            "\u001b[0;31mTypeError\u001b[0m                                 Traceback (most recent call last)",
            "\u001b[0;32m<ipython-input-43-1c27be748c10>\u001b[0m in \u001b[0;36m<module>\u001b[0;34m()\u001b[0m\n\u001b[1;32m      6\u001b[0m \u001b[0;34m\u001b[0m\u001b[0m\n\u001b[1;32m      7\u001b[0m \u001b[0mclf\u001b[0m \u001b[0;34m=\u001b[0m \u001b[0mlinear_model\u001b[0m\u001b[0;34m.\u001b[0m\u001b[0mLinearRegression\u001b[0m\u001b[0;34m(\u001b[0m\u001b[0;34m)\u001b[0m\u001b[0;34m\u001b[0m\u001b[0;34m\u001b[0m\u001b[0m\n\u001b[0;32m----> 8\u001b[0;31m \u001b[0mclf\u001b[0m\u001b[0;34m.\u001b[0m\u001b[0mfit\u001b[0m\u001b[0;34m(\u001b[0m\u001b[0mX_train\u001b[0m\u001b[0;34m,\u001b[0m\u001b[0;34m)\u001b[0m\u001b[0;34m\u001b[0m\u001b[0;34m\u001b[0m\u001b[0m\n\u001b[0m\u001b[1;32m      9\u001b[0m \u001b[0mprint\u001b[0m\u001b[0;34m(\u001b[0m\u001b[0mclf\u001b[0m\u001b[0;34m.\u001b[0m\u001b[0mpredict\u001b[0m\u001b[0;34m(\u001b[0m\u001b[0mX_test\u001b[0m\u001b[0;34m)\u001b[0m\u001b[0;34m)\u001b[0m\u001b[0;34m\u001b[0m\u001b[0;34m\u001b[0m\u001b[0m\n",
            "\u001b[0;31mTypeError\u001b[0m: fit() missing 1 required positional argument: 'y'"
          ]
        }
      ]
    }
  ]
}